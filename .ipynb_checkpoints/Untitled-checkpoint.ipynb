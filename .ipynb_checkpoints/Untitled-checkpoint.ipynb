{
 "cells": [
  {
   "cell_type": "code",
   "execution_count": 3,
   "metadata": {},
   "outputs": [],
   "source": [
    "%config IPCompleter.greedy=True\n",
    "from database import DBHelper"
   ]
  },
  {
   "cell_type": "code",
   "execution_count": 4,
   "metadata": {},
   "outputs": [],
   "source": [
    "from database import DBHelper\n",
    "from telegram.ext import(\n",
    "    Updater, \n",
    "    CommandHandler, \n",
    "    CallbackQueryHandler, \n",
    "    MessageHandler, \n",
    "    Filters\n",
    ")"
   ]
  },
  {
   "cell_type": "code",
   "execution_count": 6,
   "metadata": {},
   "outputs": [],
   "source": [
    "# imports\n",
    "import requests, sqlite3\n",
    "from datetime import date\n",
    "import calendar, logging, operator, json\n"
   ]
  },
  {
   "cell_type": "code",
   "execution_count": 7,
   "metadata": {},
   "outputs": [],
   "source": [
    "db = DBHelper()\n",
    "\n",
    "TOKEN = '1063572352:AAGwEtOQHbjao1Xuv5CbrX-Bqqao0r1UUFw'\n",
    "URL = \"https://api.telegram.org/bot{}/\".format(TOKEN)"
   ]
  },
  {
   "cell_type": "code",
   "execution_count": 8,
   "metadata": {},
   "outputs": [],
   "source": [
    "def get_url(url):\n",
    "    response = requests.get(url)\n",
    "    content = response.content.decode(\"utf8\")\n",
    "    return content\n",
    "\n",
    "def get_json_from_url(url):\n",
    "    content = get_url(url)\n",
    "    js = json.loads(content)\n",
    "    return js\n",
    "\n",
    "def get_updates(offset=None):\n",
    "    url = URL + \"getUpdates\"\n",
    "    if offset:\n",
    "        url += \"?offset={}\".format(offset)\n",
    "    js = get_json_from_url(url)\n",
    "    return js\n",
    "\n",
    "\n",
    "def get_last_update_id(updates):\n",
    "    update_ids = []\n",
    "    for update in updates[\"result\"]:\n",
    "        update_ids.append(int(update[\"update_id\"]))\n",
    "    return max(update_ids)"
   ]
  },
  {
   "cell_type": "code",
   "execution_count": null,
   "metadata": {},
   "outputs": [],
   "source": []
  },
  {
   "cell_type": "code",
   "execution_count": 10,
   "metadata": {},
   "outputs": [],
   "source": [
    "# prints 'day_of_the_week'\n",
    "my_date = date.today()\n",
    "day = calendar.day_name[my_date.weekday()]"
   ]
  },
  {
   "cell_type": "code",
   "execution_count": 12,
   "metadata": {},
   "outputs": [],
   "source": [
    "# setup weekly timetable\n",
    "if day == 'Monday':\n",
    "    table = ['os', 'toc', 'os[p]', 'cp2', 'dc']\n",
    "elif day == 'Tuesday':\n",
    "    table = ['toc', 'os', 'dbms', 'os', 'ai', 'toc']\n",
    "elif day == 'Wednesday':\n",
    "    table = ['os[p]', 'dc', 'toc', 'dbms', 'ai']\n",
    "elif day == 'Thursday':\n",
    "    table = ['ai[p]', 'os', 'dc', 'cp2', 'dbms']\n",
    "elif day == 'Friday':\n",
    "    table = ['cp2[p]', 'dbms', 'ai', 'olc', 'lib']    "
   ]
  },
  {
   "cell_type": "code",
   "execution_count": 14,
   "metadata": {},
   "outputs": [],
   "source": [
    "def handl_updates(updates):\n",
    "    for update in updates['results']:\n",
    "        text = update['message']['text']\n",
    "        chat = update['message']['chat']['id']\n",
    "        items = db.get_items(chat)\n",
    "        if text == '/done':\n",
    "            keyboard = buil_keyboard(items)\n",
    "            send_message('')\n",
    "            "
   ]
  },
  {
   "cell_type": "code",
   "execution_count": null,
   "metadata": {},
   "outputs": [],
   "source": []
  }
 ],
 "metadata": {
  "kernelspec": {
   "display_name": "Python 3",
   "language": "python",
   "name": "python3"
  },
  "language_info": {
   "codemirror_mode": {
    "name": "ipython",
    "version": 3
   },
   "file_extension": ".py",
   "mimetype": "text/x-python",
   "name": "python",
   "nbconvert_exporter": "python",
   "pygments_lexer": "ipython3",
   "version": "3.8.1"
  }
 },
 "nbformat": 4,
 "nbformat_minor": 4
}
